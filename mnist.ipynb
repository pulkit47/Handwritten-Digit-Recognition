{
  "cells": [
    {
      "metadata": {
        "_uuid": "3a758d8249f8bd3dec6fbecf51c4aae817f90cca"
      },
      "cell_type": "markdown",
      "source": "# MNIST"
    },
    {
      "metadata": {
        "_uuid": "8f2839f25d086af736a60e9eeb907d3b93b6e0e5",
        "_cell_guid": "b1076dfc-b9ad-4769-8c92-a6c4dae69d19",
        "trusted": true
      },
      "cell_type": "code",
      "source": "#Importing the libraries\nimport numpy as np\nimport pandas as pd\nimport matplotlib.pyplot as plt",
      "execution_count": 1,
      "outputs": []
    },
    {
      "metadata": {
        "_uuid": "053fb29c3368faea879c010c862f78c2fa54d913"
      },
      "cell_type": "markdown",
      "source": "# Loading the Dataset"
    },
    {
      "metadata": {
        "_cell_guid": "79c7e3d0-c299-4dcb-8224-4455121ee9b0",
        "_uuid": "d629ff2d2480ee46fbb7e2d37f6b5fab8052498a",
        "trusted": true
      },
      "cell_type": "code",
      "source": "#Importing our dataset\ntrain_data=pd.read_csv(\"../input/train.csv\")\ntest_data=pd.read_csv(\"../input/test.csv\")",
      "execution_count": 2,
      "outputs": []
    },
    {
      "metadata": {
        "trusted": true,
        "_uuid": "9dc92b1a8a27c3ff7d1676f6d1726ae077383801"
      },
      "cell_type": "code",
      "source": "train_data.head()",
      "execution_count": 3,
      "outputs": [
        {
          "output_type": "execute_result",
          "execution_count": 3,
          "data": {
            "text/plain": "   label  pixel0  pixel1    ...     pixel781  pixel782  pixel783\n0      1       0       0    ...            0         0         0\n1      0       0       0    ...            0         0         0\n2      1       0       0    ...            0         0         0\n3      4       0       0    ...            0         0         0\n4      0       0       0    ...            0         0         0\n\n[5 rows x 785 columns]",
            "text/html": "<div>\n<style scoped>\n    .dataframe tbody tr th:only-of-type {\n        vertical-align: middle;\n    }\n\n    .dataframe tbody tr th {\n        vertical-align: top;\n    }\n\n    .dataframe thead th {\n        text-align: right;\n    }\n</style>\n<table border=\"1\" class=\"dataframe\">\n  <thead>\n    <tr style=\"text-align: right;\">\n      <th></th>\n      <th>label</th>\n      <th>pixel0</th>\n      <th>pixel1</th>\n      <th>pixel2</th>\n      <th>pixel3</th>\n      <th>pixel4</th>\n      <th>pixel5</th>\n      <th>pixel6</th>\n      <th>pixel7</th>\n      <th>pixel8</th>\n      <th>pixel9</th>\n      <th>pixel10</th>\n      <th>pixel11</th>\n      <th>pixel12</th>\n      <th>pixel13</th>\n      <th>pixel14</th>\n      <th>pixel15</th>\n      <th>pixel16</th>\n      <th>pixel17</th>\n      <th>pixel18</th>\n      <th>pixel19</th>\n      <th>pixel20</th>\n      <th>pixel21</th>\n      <th>pixel22</th>\n      <th>pixel23</th>\n      <th>pixel24</th>\n      <th>pixel25</th>\n      <th>pixel26</th>\n      <th>pixel27</th>\n      <th>pixel28</th>\n      <th>pixel29</th>\n      <th>pixel30</th>\n      <th>pixel31</th>\n      <th>pixel32</th>\n      <th>pixel33</th>\n      <th>pixel34</th>\n      <th>pixel35</th>\n      <th>pixel36</th>\n      <th>pixel37</th>\n      <th>pixel38</th>\n      <th>...</th>\n      <th>pixel744</th>\n      <th>pixel745</th>\n      <th>pixel746</th>\n      <th>pixel747</th>\n      <th>pixel748</th>\n      <th>pixel749</th>\n      <th>pixel750</th>\n      <th>pixel751</th>\n      <th>pixel752</th>\n      <th>pixel753</th>\n      <th>pixel754</th>\n      <th>pixel755</th>\n      <th>pixel756</th>\n      <th>pixel757</th>\n      <th>pixel758</th>\n      <th>pixel759</th>\n      <th>pixel760</th>\n      <th>pixel761</th>\n      <th>pixel762</th>\n      <th>pixel763</th>\n      <th>pixel764</th>\n      <th>pixel765</th>\n      <th>pixel766</th>\n      <th>pixel767</th>\n      <th>pixel768</th>\n      <th>pixel769</th>\n      <th>pixel770</th>\n      <th>pixel771</th>\n      <th>pixel772</th>\n      <th>pixel773</th>\n      <th>pixel774</th>\n      <th>pixel775</th>\n      <th>pixel776</th>\n      <th>pixel777</th>\n      <th>pixel778</th>\n      <th>pixel779</th>\n      <th>pixel780</th>\n      <th>pixel781</th>\n      <th>pixel782</th>\n      <th>pixel783</th>\n    </tr>\n  </thead>\n  <tbody>\n    <tr>\n      <th>0</th>\n      <td>1</td>\n      <td>0</td>\n      <td>0</td>\n      <td>0</td>\n      <td>0</td>\n      <td>0</td>\n      <td>0</td>\n      <td>0</td>\n      <td>0</td>\n      <td>0</td>\n      <td>0</td>\n      <td>0</td>\n      <td>0</td>\n      <td>0</td>\n      <td>0</td>\n      <td>0</td>\n      <td>0</td>\n      <td>0</td>\n      <td>0</td>\n      <td>0</td>\n      <td>0</td>\n      <td>0</td>\n      <td>0</td>\n      <td>0</td>\n      <td>0</td>\n      <td>0</td>\n      <td>0</td>\n      <td>0</td>\n      <td>0</td>\n      <td>0</td>\n      <td>0</td>\n      <td>0</td>\n      <td>0</td>\n      <td>0</td>\n      <td>0</td>\n      <td>0</td>\n      <td>0</td>\n      <td>0</td>\n      <td>0</td>\n      <td>0</td>\n      <td>...</td>\n      <td>0</td>\n      <td>0</td>\n      <td>0</td>\n      <td>0</td>\n      <td>0</td>\n      <td>0</td>\n      <td>0</td>\n      <td>0</td>\n      <td>0</td>\n      <td>0</td>\n      <td>0</td>\n      <td>0</td>\n      <td>0</td>\n      <td>0</td>\n      <td>0</td>\n      <td>0</td>\n      <td>0</td>\n      <td>0</td>\n      <td>0</td>\n      <td>0</td>\n      <td>0</td>\n      <td>0</td>\n      <td>0</td>\n      <td>0</td>\n      <td>0</td>\n      <td>0</td>\n      <td>0</td>\n      <td>0</td>\n      <td>0</td>\n      <td>0</td>\n      <td>0</td>\n      <td>0</td>\n      <td>0</td>\n      <td>0</td>\n      <td>0</td>\n      <td>0</td>\n      <td>0</td>\n      <td>0</td>\n      <td>0</td>\n      <td>0</td>\n    </tr>\n    <tr>\n      <th>1</th>\n      <td>0</td>\n      <td>0</td>\n      <td>0</td>\n      <td>0</td>\n      <td>0</td>\n      <td>0</td>\n      <td>0</td>\n      <td>0</td>\n      <td>0</td>\n      <td>0</td>\n      <td>0</td>\n      <td>0</td>\n      <td>0</td>\n      <td>0</td>\n      <td>0</td>\n      <td>0</td>\n      <td>0</td>\n      <td>0</td>\n      <td>0</td>\n      <td>0</td>\n      <td>0</td>\n      <td>0</td>\n      <td>0</td>\n      <td>0</td>\n      <td>0</td>\n      <td>0</td>\n      <td>0</td>\n      <td>0</td>\n      <td>0</td>\n      <td>0</td>\n      <td>0</td>\n      <td>0</td>\n      <td>0</td>\n      <td>0</td>\n      <td>0</td>\n      <td>0</td>\n      <td>0</td>\n      <td>0</td>\n      <td>0</td>\n      <td>0</td>\n      <td>...</td>\n      <td>0</td>\n      <td>0</td>\n      <td>0</td>\n      <td>0</td>\n      <td>0</td>\n      <td>0</td>\n      <td>0</td>\n      <td>0</td>\n      <td>0</td>\n      <td>0</td>\n      <td>0</td>\n      <td>0</td>\n      <td>0</td>\n      <td>0</td>\n      <td>0</td>\n      <td>0</td>\n      <td>0</td>\n      <td>0</td>\n      <td>0</td>\n      <td>0</td>\n      <td>0</td>\n      <td>0</td>\n      <td>0</td>\n      <td>0</td>\n      <td>0</td>\n      <td>0</td>\n      <td>0</td>\n      <td>0</td>\n      <td>0</td>\n      <td>0</td>\n      <td>0</td>\n      <td>0</td>\n      <td>0</td>\n      <td>0</td>\n      <td>0</td>\n      <td>0</td>\n      <td>0</td>\n      <td>0</td>\n      <td>0</td>\n      <td>0</td>\n    </tr>\n    <tr>\n      <th>2</th>\n      <td>1</td>\n      <td>0</td>\n      <td>0</td>\n      <td>0</td>\n      <td>0</td>\n      <td>0</td>\n      <td>0</td>\n      <td>0</td>\n      <td>0</td>\n      <td>0</td>\n      <td>0</td>\n      <td>0</td>\n      <td>0</td>\n      <td>0</td>\n      <td>0</td>\n      <td>0</td>\n      <td>0</td>\n      <td>0</td>\n      <td>0</td>\n      <td>0</td>\n      <td>0</td>\n      <td>0</td>\n      <td>0</td>\n      <td>0</td>\n      <td>0</td>\n      <td>0</td>\n      <td>0</td>\n      <td>0</td>\n      <td>0</td>\n      <td>0</td>\n      <td>0</td>\n      <td>0</td>\n      <td>0</td>\n      <td>0</td>\n      <td>0</td>\n      <td>0</td>\n      <td>0</td>\n      <td>0</td>\n      <td>0</td>\n      <td>0</td>\n      <td>...</td>\n      <td>0</td>\n      <td>0</td>\n      <td>0</td>\n      <td>0</td>\n      <td>0</td>\n      <td>0</td>\n      <td>0</td>\n      <td>0</td>\n      <td>0</td>\n      <td>0</td>\n      <td>0</td>\n      <td>0</td>\n      <td>0</td>\n      <td>0</td>\n      <td>0</td>\n      <td>0</td>\n      <td>0</td>\n      <td>0</td>\n      <td>0</td>\n      <td>0</td>\n      <td>0</td>\n      <td>0</td>\n      <td>0</td>\n      <td>0</td>\n      <td>0</td>\n      <td>0</td>\n      <td>0</td>\n      <td>0</td>\n      <td>0</td>\n      <td>0</td>\n      <td>0</td>\n      <td>0</td>\n      <td>0</td>\n      <td>0</td>\n      <td>0</td>\n      <td>0</td>\n      <td>0</td>\n      <td>0</td>\n      <td>0</td>\n      <td>0</td>\n    </tr>\n    <tr>\n      <th>3</th>\n      <td>4</td>\n      <td>0</td>\n      <td>0</td>\n      <td>0</td>\n      <td>0</td>\n      <td>0</td>\n      <td>0</td>\n      <td>0</td>\n      <td>0</td>\n      <td>0</td>\n      <td>0</td>\n      <td>0</td>\n      <td>0</td>\n      <td>0</td>\n      <td>0</td>\n      <td>0</td>\n      <td>0</td>\n      <td>0</td>\n      <td>0</td>\n      <td>0</td>\n      <td>0</td>\n      <td>0</td>\n      <td>0</td>\n      <td>0</td>\n      <td>0</td>\n      <td>0</td>\n      <td>0</td>\n      <td>0</td>\n      <td>0</td>\n      <td>0</td>\n      <td>0</td>\n      <td>0</td>\n      <td>0</td>\n      <td>0</td>\n      <td>0</td>\n      <td>0</td>\n      <td>0</td>\n      <td>0</td>\n      <td>0</td>\n      <td>0</td>\n      <td>...</td>\n      <td>0</td>\n      <td>0</td>\n      <td>0</td>\n      <td>0</td>\n      <td>0</td>\n      <td>0</td>\n      <td>0</td>\n      <td>0</td>\n      <td>0</td>\n      <td>0</td>\n      <td>0</td>\n      <td>0</td>\n      <td>0</td>\n      <td>0</td>\n      <td>0</td>\n      <td>0</td>\n      <td>0</td>\n      <td>0</td>\n      <td>0</td>\n      <td>0</td>\n      <td>0</td>\n      <td>0</td>\n      <td>0</td>\n      <td>0</td>\n      <td>0</td>\n      <td>0</td>\n      <td>0</td>\n      <td>0</td>\n      <td>0</td>\n      <td>0</td>\n      <td>0</td>\n      <td>0</td>\n      <td>0</td>\n      <td>0</td>\n      <td>0</td>\n      <td>0</td>\n      <td>0</td>\n      <td>0</td>\n      <td>0</td>\n      <td>0</td>\n    </tr>\n    <tr>\n      <th>4</th>\n      <td>0</td>\n      <td>0</td>\n      <td>0</td>\n      <td>0</td>\n      <td>0</td>\n      <td>0</td>\n      <td>0</td>\n      <td>0</td>\n      <td>0</td>\n      <td>0</td>\n      <td>0</td>\n      <td>0</td>\n      <td>0</td>\n      <td>0</td>\n      <td>0</td>\n      <td>0</td>\n      <td>0</td>\n      <td>0</td>\n      <td>0</td>\n      <td>0</td>\n      <td>0</td>\n      <td>0</td>\n      <td>0</td>\n      <td>0</td>\n      <td>0</td>\n      <td>0</td>\n      <td>0</td>\n      <td>0</td>\n      <td>0</td>\n      <td>0</td>\n      <td>0</td>\n      <td>0</td>\n      <td>0</td>\n      <td>0</td>\n      <td>0</td>\n      <td>0</td>\n      <td>0</td>\n      <td>0</td>\n      <td>0</td>\n      <td>0</td>\n      <td>...</td>\n      <td>0</td>\n      <td>0</td>\n      <td>0</td>\n      <td>0</td>\n      <td>0</td>\n      <td>0</td>\n      <td>0</td>\n      <td>0</td>\n      <td>0</td>\n      <td>0</td>\n      <td>0</td>\n      <td>0</td>\n      <td>0</td>\n      <td>0</td>\n      <td>0</td>\n      <td>0</td>\n      <td>0</td>\n      <td>0</td>\n      <td>0</td>\n      <td>0</td>\n      <td>0</td>\n      <td>0</td>\n      <td>0</td>\n      <td>0</td>\n      <td>0</td>\n      <td>0</td>\n      <td>0</td>\n      <td>0</td>\n      <td>0</td>\n      <td>0</td>\n      <td>0</td>\n      <td>0</td>\n      <td>0</td>\n      <td>0</td>\n      <td>0</td>\n      <td>0</td>\n      <td>0</td>\n      <td>0</td>\n      <td>0</td>\n      <td>0</td>\n    </tr>\n  </tbody>\n</table>\n</div>"
          },
          "metadata": {}
        }
      ]
    },
    {
      "metadata": {
        "trusted": true,
        "_uuid": "0bf76befa8f6189158e3bfe575b9c58ea35ad5a3"
      },
      "cell_type": "code",
      "source": "print(train_data.shape)\nprint(test_data.shape)",
      "execution_count": 4,
      "outputs": [
        {
          "output_type": "stream",
          "text": "(42000, 785)\n(28000, 784)\n",
          "name": "stdout"
        }
      ]
    },
    {
      "metadata": {
        "_uuid": "bedd5d0925ca499270ae69915c830d90f71b71a1"
      },
      "cell_type": "markdown",
      "source": "# Splitting the Dataset"
    },
    {
      "metadata": {
        "trusted": true,
        "_uuid": "50e82da1ab42b90459885c3f890712879a891fce"
      },
      "cell_type": "code",
      "source": "#Splitting our training dataset into X and Y\ntrain_features=train_data.iloc[:,1:]\ntrain_label=train_data.iloc[:,0]",
      "execution_count": 5,
      "outputs": []
    },
    {
      "metadata": {
        "trusted": true,
        "_uuid": "a5c51348d5501c21240f4ed6cd56078216ef6eb8"
      },
      "cell_type": "code",
      "source": "#Splitting our datsset into 80% training and 20% validation dataset\nfrom sklearn.model_selection import train_test_split\nx_train,x_cv,y_train,y_cv=train_test_split(train_features,train_label,test_size=0.2, random_state=7)\n\nprint(x_train.shape)\nprint(x_cv.shape)",
      "execution_count": 6,
      "outputs": [
        {
          "output_type": "stream",
          "text": "(33600, 784)\n(8400, 784)\n",
          "name": "stdout"
        }
      ]
    },
    {
      "metadata": {
        "_uuid": "96acd105a02cb55ff406741783501274f724ad84"
      },
      "cell_type": "markdown",
      "source": "# Visualising the dataset\nPlotting random images from the dataset"
    },
    {
      "metadata": {
        "trusted": true,
        "_uuid": "7b631948682e4b9e22784a0c6bb0162112b3ce79"
      },
      "cell_type": "code",
      "source": "from random import sample",
      "execution_count": 7,
      "outputs": []
    },
    {
      "metadata": {
        "trusted": true,
        "_uuid": "47c26aef6689f28363c80a3fa680c845c5cb76c4"
      },
      "cell_type": "code",
      "source": "plot_num_images=6\nnum_rows_x_train=x_train.shape[0]",
      "execution_count": 8,
      "outputs": []
    },
    {
      "metadata": {
        "trusted": true,
        "_uuid": "b6fb5b67e65361050f677a9bef3f013bdd776ee1"
      },
      "cell_type": "code",
      "source": "#creating a list of random indices from the training dataset\nindices=sample(range(0,num_rows_x_train+1),plot_num_images)",
      "execution_count": 9,
      "outputs": []
    },
    {
      "metadata": {
        "trusted": true,
        "_uuid": "4c3457d4c35f6c8d805c3961b0e794a16e4ffbca"
      },
      "cell_type": "code",
      "source": "indices",
      "execution_count": 10,
      "outputs": [
        {
          "output_type": "execute_result",
          "execution_count": 10,
          "data": {
            "text/plain": "[5220, 16028, 15280, 31311, 25113, 3989]"
          },
          "metadata": {}
        }
      ]
    },
    {
      "metadata": {
        "trusted": true,
        "_uuid": "9ce0aeb07125d9f60d84e4c062bba3a311d09151"
      },
      "cell_type": "code",
      "source": "img_rows=28\nimg_cols=28",
      "execution_count": 11,
      "outputs": []
    },
    {
      "metadata": {
        "trusted": true,
        "_uuid": "916806f23c7ff4f97bd441944e6a7ae1ae94374c"
      },
      "cell_type": "code",
      "source": "i=0\nfor index in indices:\n    plt.subplot(2,3,i+1)\n    img= x_train.iloc[index].values.reshape(img_rows,img_cols)\n    plt.imshow(img, cmap=plt.get_cmap('gray'))\n    class_label=y_train.iloc[index]\n    plt.title('Class Label: {}'.format(class_label))\n    i+=1\nplt.tight_layout()\nplt.show()",
      "execution_count": 13,
      "outputs": [
        {
          "output_type": "display_data",
          "data": {
            "text/plain": "<Figure size 432x288 with 6 Axes>",
            "image/png": "[encoded data removed]"
          },
          "metadata": {}
        }
      ]
    },
    {
      "metadata": {
        "_uuid": "0a9e1c14c9471be8cd92b4de680fac4e4b33e329"
      },
      "cell_type": "markdown",
      "source": "# Preprocessing"
    },
    {
      "metadata": {
        "trusted": true,
        "_uuid": "ec7cbd55f48b0aa869cbe157482dd02dc6924657"
      },
      "cell_type": "code",
      "source": "X_train=x_train.values.reshape(x_train.shape[0],img_rows,img_cols,1).astype('float32')\nX_cv=x_cv.values.reshape(x_cv.shape[0],img_rows,img_cols,1).astype('float32')",
      "execution_count": 14,
      "outputs": []
    },
    {
      "metadata": {
        "trusted": true,
        "_uuid": "584338d0fe48f49cba5f0f9e839f11b73a347648"
      },
      "cell_type": "code",
      "source": "X_test=test_data.values.reshape(test_data.shape[0],img_rows,img_cols,1).astype('float32')",
      "execution_count": 15,
      "outputs": []
    },
    {
      "metadata": {
        "trusted": true,
        "_uuid": "12d876a2e60a4150cadd2aa930cc90b972e52928"
      },
      "cell_type": "code",
      "source": "X_train.shape",
      "execution_count": 16,
      "outputs": [
        {
          "output_type": "execute_result",
          "execution_count": 16,
          "data": {
            "text/plain": "(33600, 28, 28, 1)"
          },
          "metadata": {}
        }
      ]
    },
    {
      "metadata": {
        "_uuid": "859cc5fd62ac29884a76fa5171c239c872a3a7f9"
      },
      "cell_type": "markdown",
      "source": "## Normalisataion"
    },
    {
      "metadata": {
        "trusted": true,
        "_uuid": "77325392d71542a89f010d69fa54aa5155c2891d"
      },
      "cell_type": "code",
      "source": "X_train/=255\nX_test/=255\nX_cv/=255",
      "execution_count": 17,
      "outputs": []
    },
    {
      "metadata": {
        "_uuid": "3094ecff881c9c1124468b91aa4798f4e8366d07"
      },
      "cell_type": "markdown",
      "source": "## One Hot Encoding"
    },
    {
      "metadata": {
        "trusted": true,
        "_uuid": "60d2088c32994eb579eb00d89cf9ee0d72ad1cd6"
      },
      "cell_type": "code",
      "source": "from keras.utils import to_categorical\nY_train=to_categorical(y_train)\nY_cv=to_categorical(y_cv)",
      "execution_count": 18,
      "outputs": [
        {
          "output_type": "stream",
          "text": "Using TensorFlow backend.\n",
          "name": "stderr"
        }
      ]
    },
    {
      "metadata": {
        "trusted": true,
        "_uuid": "9de9c22fcbea1aa98b0357533c79629985968a87"
      },
      "cell_type": "code",
      "source": "Y_train[0]",
      "execution_count": 19,
      "outputs": [
        {
          "output_type": "execute_result",
          "execution_count": 19,
          "data": {
            "text/plain": "array([0., 0., 0., 0., 0., 1., 0., 0., 0., 0.], dtype=float32)"
          },
          "metadata": {}
        }
      ]
    },
    {
      "metadata": {
        "trusted": true,
        "_uuid": "75cee9906ce003b80f071fbeca76b9e2a76dfef7"
      },
      "cell_type": "code",
      "source": "num_classes=Y_train.shape[1]\nnum_classes",
      "execution_count": 20,
      "outputs": [
        {
          "output_type": "execute_result",
          "execution_count": 20,
          "data": {
            "text/plain": "10"
          },
          "metadata": {}
        }
      ]
    },
    {
      "metadata": {
        "_uuid": "cc82f7338fd3ead8ee8fb1f21d33c20cb859f4bf"
      },
      "cell_type": "markdown",
      "source": "# Model Fitting"
    },
    {
      "metadata": {
        "trusted": true,
        "_uuid": "90609a18034d8734a6e1b40efdc544fa2774baeb"
      },
      "cell_type": "code",
      "source": "#Using Keras\nfrom keras.models import Sequential\nfrom keras.layers import Flatten\nfrom keras.layers.convolutional import Conv2D\nfrom keras.layers.convolutional import MaxPooling2D\nfrom keras.layers import Dense, Dropout",
      "execution_count": 21,
      "outputs": []
    },
    {
      "metadata": {
        "trusted": true,
        "_uuid": "9d7baf952ec85c6cbd9a711aa159683096d7b6d9"
      },
      "cell_type": "code",
      "source": "input_shape=(img_rows,img_cols,1)\ninput_shape",
      "execution_count": 22,
      "outputs": [
        {
          "output_type": "execute_result",
          "execution_count": 22,
          "data": {
            "text/plain": "(28, 28, 1)"
          },
          "metadata": {}
        }
      ]
    },
    {
      "metadata": {
        "trusted": true,
        "_uuid": "501dc32b2480735dbac3ed7caf2225eb36727a87"
      },
      "cell_type": "code",
      "source": "#create model\nmodel=Sequential()\n\nmodel.add(Conv2D(64, kernel_size=(3, 3),activation='relu',input_shape=input_shape))\nmodel.add(MaxPooling2D(pool_size=(2,2)))\nmodel.add(Dropout(0.25))\n\nmodel.add(Conv2D(64, (3, 3), activation='relu'))\nmodel.add(MaxPooling2D(pool_size=(2,2)))\nmodel.add(Dropout(0.25))\n\nmodel.add(Flatten())\nmodel.add(Dense(128,activation='relu'))\nmodel.add(Dropout(0.25))\nmodel.add(Dense(num_classes, activation='softmax'))\n\n#compile model\nmodel.compile(loss='categorical_crossentropy',optimizer='adam',metrics=['accuracy'])\n\n#fit the model\nhistory= model.fit(X_train,Y_train, validation_data=(X_cv,Y_cv),epochs=50,batch_size=200,verbose=1)\n\n",
      "execution_count": 23,
      "outputs": [
        {
          "output_type": "stream",
          "text": "Train on 33600 samples, validate on 8400 samples\nEpoch 1/50\n33600/33600 [==============================] - 4s 121us/step - loss: 0.4626 - acc: 0.8526 - val_loss: 0.1217 - val_acc: 0.9618\nEpoch 2/50\n33600/33600 [==============================] - 2s 56us/step - loss: 0.1210 - acc: 0.9633 - val_loss: 0.0767 - val_acc: 0.9762\nEpoch 3/50\n33600/33600 [==============================] - 2s 58us/step - loss: 0.0873 - acc: 0.9727 - val_loss: 0.0632 - val_acc: 0.9811\nEpoch 4/50\n33600/33600 [==============================] - 2s 58us/step - loss: 0.0681 - acc: 0.9797 - val_loss: 0.0519 - val_acc: 0.9842\nEpoch 5/50\n33600/33600 [==============================] - 2s 58us/step - loss: 0.0553 - acc: 0.9830 - val_loss: 0.0486 - val_acc: 0.9877\nEpoch 6/50\n33600/33600 [==============================] - 2s 58us/step - loss: 0.0469 - acc: 0.9842 - val_loss: 0.0472 - val_acc: 0.9861\nEpoch 7/50\n33600/33600 [==============================] - 2s 58us/step - loss: 0.0427 - acc: 0.9856 - val_loss: 0.0464 - val_acc: 0.9865\nEpoch 8/50\n33600/33600 [==============================] - 2s 55us/step - loss: 0.0395 - acc: 0.9875 - val_loss: 0.0441 - val_acc: 0.9880\nEpoch 9/50\n33600/33600 [==============================] - 2s 55us/step - loss: 0.0366 - acc: 0.9882 - val_loss: 0.0496 - val_acc: 0.9867\nEpoch 10/50\n33600/33600 [==============================] - 2s 55us/step - loss: 0.0326 - acc: 0.9889 - val_loss: 0.0452 - val_acc: 0.9879\nEpoch 11/50\n33600/33600 [==============================] - 2s 55us/step - loss: 0.0268 - acc: 0.9913 - val_loss: 0.0447 - val_acc: 0.9888\nEpoch 12/50\n33600/33600 [==============================] - 2s 55us/step - loss: 0.0266 - acc: 0.9907 - val_loss: 0.0387 - val_acc: 0.9894\nEpoch 13/50\n33600/33600 [==============================] - 2s 55us/step - loss: 0.0246 - acc: 0.9919 - val_loss: 0.0431 - val_acc: 0.9879\nEpoch 14/50\n33600/33600 [==============================] - 2s 55us/step - loss: 0.0221 - acc: 0.9928 - val_loss: 0.0446 - val_acc: 0.9899\nEpoch 15/50\n33600/33600 [==============================] - 2s 55us/step - loss: 0.0221 - acc: 0.9923 - val_loss: 0.0407 - val_acc: 0.9894\nEpoch 16/50\n33600/33600 [==============================] - 2s 55us/step - loss: 0.0206 - acc: 0.9932 - val_loss: 0.0461 - val_acc: 0.9887\nEpoch 17/50\n33600/33600 [==============================] - 2s 55us/step - loss: 0.0194 - acc: 0.9938 - val_loss: 0.0430 - val_acc: 0.9898\nEpoch 18/50\n33600/33600 [==============================] - 2s 55us/step - loss: 0.0176 - acc: 0.9939 - val_loss: 0.0401 - val_acc: 0.9894\nEpoch 19/50\n33600/33600 [==============================] - 2s 55us/step - loss: 0.0165 - acc: 0.9941 - val_loss: 0.0405 - val_acc: 0.9907\nEpoch 20/50\n33600/33600 [==============================] - 2s 55us/step - loss: 0.0165 - acc: 0.9943 - val_loss: 0.0427 - val_acc: 0.9894\nEpoch 21/50\n33600/33600 [==============================] - 2s 55us/step - loss: 0.0164 - acc: 0.9947 - val_loss: 0.0409 - val_acc: 0.9911\nEpoch 22/50\n33600/33600 [==============================] - 2s 56us/step - loss: 0.0132 - acc: 0.9953 - val_loss: 0.0415 - val_acc: 0.9904\nEpoch 23/50\n33600/33600 [==============================] - 2s 55us/step - loss: 0.0151 - acc: 0.9950 - val_loss: 0.0388 - val_acc: 0.9911\nEpoch 24/50\n33600/33600 [==============================] - 2s 55us/step - loss: 0.0145 - acc: 0.9949 - val_loss: 0.0455 - val_acc: 0.9894\nEpoch 25/50\n33600/33600 [==============================] - 2s 55us/step - loss: 0.0125 - acc: 0.9956 - val_loss: 0.0459 - val_acc: 0.9896\nEpoch 26/50\n33600/33600 [==============================] - 2s 55us/step - loss: 0.0125 - acc: 0.9960 - val_loss: 0.0424 - val_acc: 0.9905\nEpoch 27/50\n33600/33600 [==============================] - 2s 57us/step - loss: 0.0136 - acc: 0.9953 - val_loss: 0.0388 - val_acc: 0.9906\nEpoch 28/50\n33600/33600 [==============================] - 2s 59us/step - loss: 0.0122 - acc: 0.9959 - val_loss: 0.0426 - val_acc: 0.9905\nEpoch 29/50\n33600/33600 [==============================] - 2s 59us/step - loss: 0.0109 - acc: 0.9962 - val_loss: 0.0436 - val_acc: 0.9911\nEpoch 30/50\n33600/33600 [==============================] - 2s 59us/step - loss: 0.0109 - acc: 0.9964 - val_loss: 0.0404 - val_acc: 0.9913\nEpoch 31/50\n33600/33600 [==============================] - 2s 59us/step - loss: 0.0119 - acc: 0.9957 - val_loss: 0.0449 - val_acc: 0.9905\nEpoch 32/50\n33600/33600 [==============================] - 2s 58us/step - loss: 0.0108 - acc: 0.9964 - val_loss: 0.0377 - val_acc: 0.9920\nEpoch 33/50\n33600/33600 [==============================] - 2s 56us/step - loss: 0.0096 - acc: 0.9970 - val_loss: 0.0428 - val_acc: 0.9893\nEpoch 34/50\n33600/33600 [==============================] - 2s 57us/step - loss: 0.0077 - acc: 0.9974 - val_loss: 0.0424 - val_acc: 0.9904\nEpoch 35/50\n33600/33600 [==============================] - 2s 55us/step - loss: 0.0103 - acc: 0.9963 - val_loss: 0.0398 - val_acc: 0.9910\nEpoch 36/50\n33600/33600 [==============================] - 2s 56us/step - loss: 0.0084 - acc: 0.9971 - val_loss: 0.0428 - val_acc: 0.9908\nEpoch 37/50\n33600/33600 [==============================] - 2s 55us/step - loss: 0.0070 - acc: 0.9977 - val_loss: 0.0387 - val_acc: 0.9911\nEpoch 38/50\n33600/33600 [==============================] - 2s 55us/step - loss: 0.0076 - acc: 0.9972 - val_loss: 0.0473 - val_acc: 0.9905\nEpoch 39/50\n33600/33600 [==============================] - 2s 55us/step - loss: 0.0084 - acc: 0.9970 - val_loss: 0.0434 - val_acc: 0.9907\nEpoch 40/50\n33600/33600 [==============================] - 2s 55us/step - loss: 0.0093 - acc: 0.9970 - val_loss: 0.0532 - val_acc: 0.9900\nEpoch 41/50\n33600/33600 [==============================] - 2s 56us/step - loss: 0.0097 - acc: 0.9964 - val_loss: 0.0450 - val_acc: 0.9904\nEpoch 42/50\n33600/33600 [==============================] - 2s 56us/step - loss: 0.0066 - acc: 0.9975 - val_loss: 0.0447 - val_acc: 0.9912\nEpoch 43/50\n33600/33600 [==============================] - 2s 55us/step - loss: 0.0078 - acc: 0.9971 - val_loss: 0.0434 - val_acc: 0.9895\nEpoch 44/50\n33600/33600 [==============================] - 2s 55us/step - loss: 0.0072 - acc: 0.9976 - val_loss: 0.0467 - val_acc: 0.9904\nEpoch 45/50\n33600/33600 [==============================] - 2s 56us/step - loss: 0.0072 - acc: 0.9974 - val_loss: 0.0406 - val_acc: 0.9910\nEpoch 46/50\n33600/33600 [==============================] - 2s 58us/step - loss: 0.0062 - acc: 0.9978 - val_loss: 0.0467 - val_acc: 0.9913\nEpoch 47/50\n33600/33600 [==============================] - 2s 57us/step - loss: 0.0089 - acc: 0.9970 - val_loss: 0.0442 - val_acc: 0.9904\nEpoch 48/50\n33600/33600 [==============================] - 2s 57us/step - loss: 0.0069 - acc: 0.9975 - val_loss: 0.0488 - val_acc: 0.9911\nEpoch 49/50\n33600/33600 [==============================] - 2s 58us/step - loss: 0.0079 - acc: 0.9974 - val_loss: 0.0409 - val_acc: 0.9914\nEpoch 50/50\n33600/33600 [==============================] - 2s 56us/step - loss: 0.0065 - acc: 0.9980 - val_loss: 0.0434 - val_acc: 0.9915\n",
          "name": "stdout"
        }
      ]
    },
    {
      "metadata": {
        "trusted": true,
        "_uuid": "45a87e79aaf430af121b1d95f36fd41c3e78ea6f"
      },
      "cell_type": "code",
      "source": "# list all data in history\nprint(history.history.keys())",
      "execution_count": 24,
      "outputs": [
        {
          "output_type": "stream",
          "text": "dict_keys(['val_loss', 'val_acc', 'loss', 'acc'])\n",
          "name": "stdout"
        }
      ]
    },
    {
      "metadata": {
        "trusted": true,
        "_uuid": "613b4b5edba9c45842c05df3c939c5d00943118e"
      },
      "cell_type": "code",
      "source": "# summarize history for accuracy\nplt.plot(history.history['acc'])\nplt.plot(history.history['val_acc'])\nplt.title('model accuracy')\nplt.ylabel('accuracy')\nplt.xlabel('epoch')\nplt.legend(['train', 'test'], loc='best')\nplt.show()",
      "execution_count": 29,
      "outputs": [
        {
          "output_type": "display_data",
          "data": {
            "text/plain": "<Figure size 432x288 with 1 Axes>",
            "image/png": "[encoded data removed]"
          },
          "metadata": {}
        }
      ]
    },
    {
      "metadata": {
        "trusted": true,
        "_uuid": "4b65757f7259734ad0d60ff3ba912cbda6ff05b3"
      },
      "cell_type": "code",
      "source": "# summarize history for loss\nplt.plot(history.history['loss'])\nplt.plot(history.history['val_loss'])\nplt.title('model loss')\nplt.ylabel('loss')\nplt.xlabel('epoch')\nplt.legend(['train', 'test'], loc='upper right')\nplt.show()",
      "execution_count": 26,
      "outputs": [
        {
          "output_type": "display_data",
          "data": {
            "text/plain": "<Figure size 432x288 with 1 Axes>",
            "image/png": "[encoded data removed]"
          },
          "metadata": {}
        }
      ]
    },
    {
      "metadata": {
        "trusted": true,
        "_uuid": "e13367ea302818458d72271fffa85afcb1fd0b94"
      },
      "cell_type": "code",
      "source": "model.metrics_names",
      "execution_count": 27,
      "outputs": [
        {
          "output_type": "execute_result",
          "execution_count": 27,
          "data": {
            "text/plain": "['loss', 'acc']"
          },
          "metadata": {}
        }
      ]
    },
    {
      "metadata": {
        "trusted": true,
        "scrolled": true,
        "_uuid": "be4dbb27f8dae8a2863a9d5494e135c11908435e"
      },
      "cell_type": "code",
      "source": "#evaluate\nscores=model.evaluate(X_cv,Y_cv,verbose=0)\nprint('CV loss:', scores[0])\nprint('CV accuracy: ',scores[1]*100) ",
      "execution_count": 28,
      "outputs": [
        {
          "output_type": "stream",
          "text": "CV loss: 0.0433968536998907\nCV accuracy:  99.1547619047619\n",
          "name": "stdout"
        }
      ]
    },
    {
      "metadata": {
        "_uuid": "91591394da732776328a10b77f8a6bc3924b452e"
      },
      "cell_type": "markdown",
      "source": "# Predict"
    },
    {
      "metadata": {
        "trusted": true,
        "_uuid": "35841a28f07bd7dd22eddff5c378c280b16306d7"
      },
      "cell_type": "code",
      "source": "predictions=model.predict_classes(X_test)",
      "execution_count": 30,
      "outputs": []
    },
    {
      "metadata": {
        "trusted": true,
        "_uuid": "abc59cf20bc2864ff5e23f1d4b9d8af6e47c46ca"
      },
      "cell_type": "code",
      "source": "submissions=pd.DataFrame({'ImageId':list(range(1,len(predictions) + 1)), \"Label\": predictions})\nsubmissions.head()",
      "execution_count": 31,
      "outputs": [
        {
          "output_type": "execute_result",
          "execution_count": 31,
          "data": {
            "text/plain": "   ImageId  Label\n0        1      2\n1        2      0\n2        3      9\n3        4      9\n4        5      3",
            "text/html": "<div>\n<style scoped>\n    .dataframe tbody tr th:only-of-type {\n        vertical-align: middle;\n    }\n\n    .dataframe tbody tr th {\n        vertical-align: top;\n    }\n\n    .dataframe thead th {\n        text-align: right;\n    }\n</style>\n<table border=\"1\" class=\"dataframe\">\n  <thead>\n    <tr style=\"text-align: right;\">\n      <th></th>\n      <th>ImageId</th>\n      <th>Label</th>\n    </tr>\n  </thead>\n  <tbody>\n    <tr>\n      <th>0</th>\n      <td>1</td>\n      <td>2</td>\n    </tr>\n    <tr>\n      <th>1</th>\n      <td>2</td>\n      <td>0</td>\n    </tr>\n    <tr>\n      <th>2</th>\n      <td>3</td>\n      <td>9</td>\n    </tr>\n    <tr>\n      <th>3</th>\n      <td>4</td>\n      <td>9</td>\n    </tr>\n    <tr>\n      <th>4</th>\n      <td>5</td>\n      <td>3</td>\n    </tr>\n  </tbody>\n</table>\n</div>"
          },
          "metadata": {}
        }
      ]
    },
    {
      "metadata": {
        "trusted": true,
        "_uuid": "845ef2989823fcfbabd6d9b43dbf137a90856a69"
      },
      "cell_type": "code",
      "source": "submissions.to_csv(\"mnist.csv\", index=False, header=True)",
      "execution_count": 32,
      "outputs": []
    }
  ],
  "metadata": {
    "kernelspec": {
      "display_name": "Python 3",
      "language": "python",
      "name": "python3"
    },
    "language_info": {
      "name": "python",
      "version": "3.6.6",
      "mimetype": "text/x-python",
      "codemirror_mode": {
        "name": "ipython",
        "version": 3
      },
      "pygments_lexer": "ipython3",
      "nbconvert_exporter": "python",
      "file_extension": ".py"
    }
  },
  "nbformat": 4,
  "nbformat_minor": 1
}